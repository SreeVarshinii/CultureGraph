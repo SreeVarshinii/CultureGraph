{
 "cells": [
  {
   "cell_type": "code",
   "execution_count": 1,
   "id": "7d824b84",
   "metadata": {},
   "outputs": [],
   "source": [
    "from analysis import analyze_taste_profile"
   ]
  },
  {
   "cell_type": "code",
   "execution_count": 2,
   "id": "5daab5b4",
   "metadata": {},
   "outputs": [
    {
     "name": "stdout",
     "output_type": "stream",
     "text": [
      "Analyzing taste profile via GET: https://hackathon.api.qloo.com/analysis\n",
      "Status: 200\n",
      "['Love At First Listen', 'Pop', 'Country', 'Love', 'Indie Pop']\n"
     ]
    }
   ],
   "source": [
    "# Example UUIDs\n",
    "entity_ids = [\n",
    "    \"4BBEF799-A0C4-4110-AB01-39216993C312\", \n",
    "    \"13087295-1C74-4EA7-8D1B-9C3A87A6A1E4\"\n",
    "]\n",
    "\n",
    "result = analyze_taste_profile(entity_ids)\n",
    "print(result)\n"
   ]
  },
  {
   "cell_type": "code",
   "execution_count": 5,
   "id": "2b77109d",
   "metadata": {},
   "outputs": [
    {
     "name": "stdout",
     "output_type": "stream",
     "text": [
      "✔ VM-Para-20250731184457.json: ['D404ED35-6BAD-47A9-9892-0236BD9D7A2F', '237D5E39-7777-46B9-8DBB-7B8927349E53', '407C57B4-D4B3-40B9-BA4E-436D6CD8466B', '4E2216EB-3814-452B-8F63-51190BDE25F3', 'BF0C4F12-E45D-4440-A93D-94510C0D0EA8', '2D0364AE-DC1A-4F00-BAE0-322FB02F5655', '1FC5BBD5-1DE3-427D-9291-4E3CA7A8B12B', '25BCCF11-9B4C-44F9-BE22-B340DD33EE37', '8BF8B640-D470-4E8B-B2D4-C7DBAD83CBA9', '367C975F-3B04-4C56-825A-9F70DA9FBA4F', '72089CC1-B2FF-43FC-B1FC-DA85CF99CE1B', '6B756743-6FC1-4965-8F95-19E67BC071F6', '692462A6-BA68-42F0-AB02-FB1C5A65A3AF', '47ACE032-6611-4294-AEE1-6B200C57A998', 'E72AF617-78CB-4836-9E59-F1411220392A', 'CA4F2DC2-50DE-44CC-9B1E-719907113134', '706AD123-180F-47AC-8990-47F03037B56E', '5D1DDCD7-66AD-4C1E-B0DC-BC0E8A5C13E9', 'CAE528DA-5014-4DC9-B542-5B784A145E1A', '149E4D1B-F583-4DA0-BD39-6B83D76CBF2C', 'BFECA7F3-697A-4E90-9067-0501F627BDAB', 'CCD8603E-59D5-4A9B-8884-5C644BA9DDFE', '8D10E155-0DB8-452F-84FA-8FB326BB2340']\n",
      "✔ VM-newbies-20250731185914.json: ['407C57B4-D4B3-40B9-BA4E-436D6CD8466B', '4E2216EB-3814-452B-8F63-51190BDE25F3', 'BF0C4F12-E45D-4440-A93D-94510C0D0EA8', '2D0364AE-DC1A-4F00-BAE0-322FB02F5655', '25BCCF11-9B4C-44F9-BE22-B340DD33EE37', '1FC5BBD5-1DE3-427D-9291-4E3CA7A8B12B', '8BF8B640-D470-4E8B-B2D4-C7DBAD83CBA9', '9B1D6901-A254-4467-9326-6EEC3B7F76AA', '1B2AD605-B4F3-44BE-8AF6-4B87ED88957A', '2EB6AD7D-D9F9-406B-8E87-922D32DBE7DE', '6B756743-6FC1-4965-8F95-19E67BC071F6', '47ACE032-6611-4294-AEE1-6B200C57A998', 'EC558B1F-CC60-447D-B4B4-228449748B9C', 'E72AF617-78CB-4836-9E59-F1411220392A', 'CA4F2DC2-50DE-44CC-9B1E-719907113134', '706AD123-180F-47AC-8990-47F03037B56E', '5D1DDCD7-66AD-4C1E-B0DC-BC0E8A5C13E9', 'C4CB38DE-6463-488C-970C-519DFCD162AD', '1C64537E-5A57-4EB7-8D42-CDEAA9212B25', '149E4D1B-F583-4DA0-BD39-6B83D76CBF2C', 'BFECA7F3-697A-4E90-9067-0501F627BDAB', 'CCD8603E-59D5-4A9B-8884-5C644BA9DDFE', '16E86645-B5DC-4879-B673-C871EE6A07EE']\n"
     ]
    },
    {
     "name": "stderr",
     "output_type": "stream",
     "text": [
      "<>:5: SyntaxWarning: invalid escape sequence '\\m'\n",
      "<>:5: SyntaxWarning: invalid escape sequence '\\m'\n",
      "C:\\Users\\varsh\\AppData\\Local\\Temp\\ipykernel_18784\\3274486596.py:5: SyntaxWarning: invalid escape sequence '\\m'\n",
      "  csv_path = 'logs\\master_entity_log.csv'\n"
     ]
    }
   ],
   "source": [
    "import csv\n",
    "import ast  # To safely parse stringified list\n",
    "\n",
    "# Input CSV\n",
    "csv_path = 'logs\\master_entity_log.csv'\n",
    "der=[]\n",
    "with open(csv_path, mode='r', encoding='utf-8') as f:\n",
    "    reader = csv.DictReader(f)\n",
    "    for row in reader:\n",
    "        filename = row['filename']\n",
    "        raw_ids = row['full_entity_ids']\n",
    "\n",
    "        # Convert stringified list to actual list\n",
    "        try:\n",
    "            entity_ids_b = ast.literal_eval(raw_ids)\n",
    "            if not isinstance(entity_ids_b, list):\n",
    "                raise ValueError(\"full_entity_ids is not a list\")\n",
    "        except Exception as e:\n",
    "            print(f\"Skipping {filename} due to parsing error:\", e)\n",
    "            continue\n",
    "\n",
    "        print(f\"✔ {filename}:\",entity_ids_b)\n",
    "        der=entity_ids_b"
   ]
  },
  {
   "cell_type": "code",
   "execution_count": 9,
   "id": "32abb19e",
   "metadata": {},
   "outputs": [
    {
     "name": "stderr",
     "output_type": "stream",
     "text": [
      "<>:5: SyntaxWarning: invalid escape sequence '\\m'\n",
      "<>:5: SyntaxWarning: invalid escape sequence '\\m'\n",
      "C:\\Users\\varsh\\AppData\\Local\\Temp\\ipykernel_18784\\170591211.py:5: SyntaxWarning: invalid escape sequence '\\m'\n",
      "  csv_path = 'logs\\master_entity_log.csv'\n"
     ]
    },
    {
     "name": "stdout",
     "output_type": "stream",
     "text": [
      "Answer :  {'score': 0.0, 'summary': []}\n",
      "✔ VM-Para-20250731184457.json: ['D404ED35-6BAD-47A9-9892-0236BD9D7A2F', '237D5E39-7777-46B9-8DBB-7B8927349E53', '407C57B4-D4B3-40B9-BA4E-436D6CD8466B', '4E2216EB-3814-452B-8F63-51190BDE25F3', 'BF0C4F12-E45D-4440-A93D-94510C0D0EA8', '2D0364AE-DC1A-4F00-BAE0-322FB02F5655', '1FC5BBD5-1DE3-427D-9291-4E3CA7A8B12B', '25BCCF11-9B4C-44F9-BE22-B340DD33EE37', '8BF8B640-D470-4E8B-B2D4-C7DBAD83CBA9', '367C975F-3B04-4C56-825A-9F70DA9FBA4F', '72089CC1-B2FF-43FC-B1FC-DA85CF99CE1B', '6B756743-6FC1-4965-8F95-19E67BC071F6', '692462A6-BA68-42F0-AB02-FB1C5A65A3AF', '47ACE032-6611-4294-AEE1-6B200C57A998', 'E72AF617-78CB-4836-9E59-F1411220392A', 'CA4F2DC2-50DE-44CC-9B1E-719907113134', '706AD123-180F-47AC-8990-47F03037B56E', '5D1DDCD7-66AD-4C1E-B0DC-BC0E8A5C13E9', 'CAE528DA-5014-4DC9-B542-5B784A145E1A', '149E4D1B-F583-4DA0-BD39-6B83D76CBF2C', 'BFECA7F3-697A-4E90-9067-0501F627BDAB', 'CCD8603E-59D5-4A9B-8884-5C644BA9DDFE', '8D10E155-0DB8-452F-84FA-8FB326BB2340']\n"
     ]
    }
   ],
   "source": [
    "import csv\n",
    "import ast  # To safely parse stringified list\n",
    "from compatiblity import compute_compatibility\n",
    "# Input CSV\n",
    "csv_path = 'logs\\master_entity_log.csv'\n",
    "\n",
    "with open(csv_path, mode='r', encoding='utf-8') as f:\n",
    "    reader = csv.DictReader(f)\n",
    "    for row in reader:\n",
    "        filename = row['filename']\n",
    "        raw_ids = row['full_entity_ids']\n",
    "\n",
    "        # Convert stringified list to actual list\n",
    "        try:\n",
    "            entity_ids_b = ast.literal_eval(raw_ids)\n",
    "            if not isinstance(entity_ids_b, list):\n",
    "                raise ValueError(\"full_entity_ids is not a list\")\n",
    "        except Exception as e:\n",
    "            print(f\"Skipping {filename} due to parsing error:\", e)\n",
    "            continue\n",
    "        ans=compute_compatibility(der,entity_ids_b)\n",
    "        print(\"Answer : \",ans)\n",
    "        print(f\"✔ {filename}:\",entity_ids_b)\n",
    "        break\n"
   ]
  },
  {
   "cell_type": "code",
   "execution_count": 6,
   "id": "3bf783da",
   "metadata": {},
   "outputs": [
    {
     "name": "stdout",
     "output_type": "stream",
     "text": [
      "['407C57B4-D4B3-40B9-BA4E-436D6CD8466B', '4E2216EB-3814-452B-8F63-51190BDE25F3', 'BF0C4F12-E45D-4440-A93D-94510C0D0EA8', '2D0364AE-DC1A-4F00-BAE0-322FB02F5655', '25BCCF11-9B4C-44F9-BE22-B340DD33EE37', '1FC5BBD5-1DE3-427D-9291-4E3CA7A8B12B', '8BF8B640-D470-4E8B-B2D4-C7DBAD83CBA9', '9B1D6901-A254-4467-9326-6EEC3B7F76AA', '1B2AD605-B4F3-44BE-8AF6-4B87ED88957A', '2EB6AD7D-D9F9-406B-8E87-922D32DBE7DE', '6B756743-6FC1-4965-8F95-19E67BC071F6', '47ACE032-6611-4294-AEE1-6B200C57A998', 'EC558B1F-CC60-447D-B4B4-228449748B9C', 'E72AF617-78CB-4836-9E59-F1411220392A', 'CA4F2DC2-50DE-44CC-9B1E-719907113134', '706AD123-180F-47AC-8990-47F03037B56E', '5D1DDCD7-66AD-4C1E-B0DC-BC0E8A5C13E9', 'C4CB38DE-6463-488C-970C-519DFCD162AD', '1C64537E-5A57-4EB7-8D42-CDEAA9212B25', '149E4D1B-F583-4DA0-BD39-6B83D76CBF2C', 'BFECA7F3-697A-4E90-9067-0501F627BDAB', 'CCD8603E-59D5-4A9B-8884-5C644BA9DDFE', '16E86645-B5DC-4879-B673-C871EE6A07EE']\n"
     ]
    }
   ],
   "source": [
    "print(der)"
   ]
  },
  {
   "cell_type": "code",
   "execution_count": null,
   "id": "bcd47e44",
   "metadata": {},
   "outputs": [],
   "source": []
  }
 ],
 "metadata": {
  "kernelspec": {
   "display_name": "base",
   "language": "python",
   "name": "python3"
  },
  "language_info": {
   "codemirror_mode": {
    "name": "ipython",
    "version": 3
   },
   "file_extension": ".py",
   "mimetype": "text/x-python",
   "name": "python",
   "nbconvert_exporter": "python",
   "pygments_lexer": "ipython3",
   "version": "3.12.4"
  }
 },
 "nbformat": 4,
 "nbformat_minor": 5
}
